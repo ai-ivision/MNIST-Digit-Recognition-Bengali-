{
 "cells": [
  {
   "cell_type": "markdown",
   "metadata": {},
   "source": [
    "# Problem Statement: Bengali MNIST Digit Recognition\n",
    "\n",
    "## Background\n",
    "In the realm of digit recognition, the MNIST dataset has been a benchmark for testing various machine learning and deep learning algorithms. However, there is a growing need to extend these capabilities to non-Latin scripts to address the diverse linguistic landscape. Bengali, being the fifth most spoken language in the world, presents an excellent opportunity to explore digit recognition in a non-Latin script context.\n",
    "\n",
    "## Objective\n",
    "The primary objective of this project is to develop a Convolutional Neural Network (CNN) model that can accurately recognize and classify handwritten Bengali digits. The model should be trained on the Bengali MNIST dataset and evaluated for its accuracy and robustness in recognizing Bengali digits.\n",
    "\n",
    "## Data\n",
    "The dataset consists of grayscale images of handwritten Bengali digits, along with their corresponding labels. The images are in a format similar to the original MNIST dataset, but they represent Bengali numerals (0-9). The data is split into training, validation, and test sets to ensure proper evaluation of the model.\n",
    "\n",
    "## Goals\n",
    "1. **Preprocess the Data**:\n",
    "   - Load the images from the file system.\n",
    "   - Normalize the pixel values.\n",
    "   - Encode the labels into a format suitable for training.\n",
    "\n",
    "2. **Build the CNN Model**:\n",
    "   - Design a CNN architecture tailored for digit recognition.\n",
    "   - Optimize the model architecture through experimentation with different hyperparameters.\n",
    "\n",
    "3. **Train the Model**:\n",
    "   - Use the training dataset to train the CNN model.\n",
    "   - Implement validation mechanisms to tune the model and prevent overfitting.\n",
    "\n",
    "4. **Evaluate the Model**:\n",
    "   - Assess the model's performance on the test dataset.\n",
    "   - Report accuracy, precision, recall, and other relevant metrics.\n",
    "\n",
    "<br>\n",
    "<br>\n",
    "<br>\n",
    "<br>\n",
    "<br>"
   ]
  },
  {
   "cell_type": "markdown",
   "metadata": {},
   "source": [
    "## Importing the Libraries"
   ]
  },
  {
   "cell_type": "code",
   "execution_count": 2,
   "metadata": {},
   "outputs": [],
   "source": [
    "import os\n",
    "import random\n",
    "import pandas as pd\n",
    "import numpy as np\n",
    "import matplotlib.pyplot as plt\n",
    "import cv2\n",
    "import tensorflow as tf\n",
    "from mpl_toolkits.axes_grid1 import ImageGrid\n",
    "from tensorflow.keras.callbacks import EarlyStopping\n",
    "from tensorflow.keras.utils import to_categorical\n",
    "from sklearn.model_selection import train_test_split\n",
    "from tensorflow.keras.models import Sequential\n",
    "from tensorflow.keras.layers import Conv2D, MaxPooling2D, Flatten, Dense\n",
    "\n",
    "import pickle"
   ]
  },
  {
   "cell_type": "markdown",
   "metadata": {},
   "source": [
    "## Loading and preprocessing the data"
   ]
  },
  {
   "cell_type": "code",
   "execution_count": 3,
   "metadata": {},
   "outputs": [],
   "source": [
    "images_dir = \"./Data/bangla-mnist/labeled\"\n",
    "labels_file_path = \"./Data/labels.csv\""
   ]
  },
  {
   "cell_type": "code",
   "execution_count": 4,
   "metadata": {},
   "outputs": [],
   "source": [
    "labels_df = pd.read_csv(labels_file_path)"
   ]
  },
  {
   "cell_type": "code",
   "execution_count": 5,
   "metadata": {},
   "outputs": [
    {
     "data": {
      "text/html": [
       "<div>\n",
       "<style scoped>\n",
       "    .dataframe tbody tr th:only-of-type {\n",
       "        vertical-align: middle;\n",
       "    }\n",
       "\n",
       "    .dataframe tbody tr th {\n",
       "        vertical-align: top;\n",
       "    }\n",
       "\n",
       "    .dataframe thead th {\n",
       "        text-align: right;\n",
       "    }\n",
       "</style>\n",
       "<table border=\"1\" class=\"dataframe\">\n",
       "  <thead>\n",
       "    <tr style=\"text-align: right;\">\n",
       "      <th></th>\n",
       "      <th>Unnamed: 0</th>\n",
       "      <th>filename</th>\n",
       "      <th>digit</th>\n",
       "    </tr>\n",
       "  </thead>\n",
       "  <tbody>\n",
       "    <tr>\n",
       "      <th>0</th>\n",
       "      <td>0</td>\n",
       "      <td>a00000.png</td>\n",
       "      <td>5</td>\n",
       "    </tr>\n",
       "    <tr>\n",
       "      <th>1</th>\n",
       "      <td>1</td>\n",
       "      <td>a00001.png</td>\n",
       "      <td>3</td>\n",
       "    </tr>\n",
       "    <tr>\n",
       "      <th>2</th>\n",
       "      <td>2</td>\n",
       "      <td>a00002.png</td>\n",
       "      <td>1</td>\n",
       "    </tr>\n",
       "    <tr>\n",
       "      <th>3</th>\n",
       "      <td>3</td>\n",
       "      <td>a00003.png</td>\n",
       "      <td>7</td>\n",
       "    </tr>\n",
       "    <tr>\n",
       "      <th>4</th>\n",
       "      <td>4</td>\n",
       "      <td>a00004.png</td>\n",
       "      <td>0</td>\n",
       "    </tr>\n",
       "  </tbody>\n",
       "</table>\n",
       "</div>"
      ],
      "text/plain": [
       "   Unnamed: 0    filename  digit\n",
       "0           0  a00000.png      5\n",
       "1           1  a00001.png      3\n",
       "2           2  a00002.png      1\n",
       "3           3  a00003.png      7\n",
       "4           4  a00004.png      0"
      ]
     },
     "execution_count": 5,
     "metadata": {},
     "output_type": "execute_result"
    }
   ],
   "source": [
    "labels_df.head()"
   ]
  },
  {
   "cell_type": "code",
   "execution_count": 6,
   "metadata": {},
   "outputs": [],
   "source": [
    "labels_df.drop(\"Unnamed: 0\", axis=1, inplace=True)"
   ]
  },
  {
   "cell_type": "code",
   "execution_count": 7,
   "metadata": {},
   "outputs": [
    {
     "data": {
      "text/html": [
       "<div>\n",
       "<style scoped>\n",
       "    .dataframe tbody tr th:only-of-type {\n",
       "        vertical-align: middle;\n",
       "    }\n",
       "\n",
       "    .dataframe tbody tr th {\n",
       "        vertical-align: top;\n",
       "    }\n",
       "\n",
       "    .dataframe thead th {\n",
       "        text-align: right;\n",
       "    }\n",
       "</style>\n",
       "<table border=\"1\" class=\"dataframe\">\n",
       "  <thead>\n",
       "    <tr style=\"text-align: right;\">\n",
       "      <th></th>\n",
       "      <th>filename</th>\n",
       "      <th>digit</th>\n",
       "    </tr>\n",
       "  </thead>\n",
       "  <tbody>\n",
       "    <tr>\n",
       "      <th>0</th>\n",
       "      <td>a00000.png</td>\n",
       "      <td>5</td>\n",
       "    </tr>\n",
       "    <tr>\n",
       "      <th>1</th>\n",
       "      <td>a00001.png</td>\n",
       "      <td>3</td>\n",
       "    </tr>\n",
       "    <tr>\n",
       "      <th>2</th>\n",
       "      <td>a00002.png</td>\n",
       "      <td>1</td>\n",
       "    </tr>\n",
       "    <tr>\n",
       "      <th>3</th>\n",
       "      <td>a00003.png</td>\n",
       "      <td>7</td>\n",
       "    </tr>\n",
       "    <tr>\n",
       "      <th>4</th>\n",
       "      <td>a00004.png</td>\n",
       "      <td>0</td>\n",
       "    </tr>\n",
       "  </tbody>\n",
       "</table>\n",
       "</div>"
      ],
      "text/plain": [
       "     filename  digit\n",
       "0  a00000.png      5\n",
       "1  a00001.png      3\n",
       "2  a00002.png      1\n",
       "3  a00003.png      7\n",
       "4  a00004.png      0"
      ]
     },
     "execution_count": 7,
     "metadata": {},
     "output_type": "execute_result"
    }
   ],
   "source": [
    "labels_df.head()"
   ]
  },
  {
   "cell_type": "code",
   "execution_count": 8,
   "metadata": {},
   "outputs": [],
   "source": [
    "images_filenames = labels_df['filename'].values\n",
    "labels = labels_df['digit'].values"
   ]
  },
  {
   "cell_type": "code",
   "execution_count": 9,
   "metadata": {},
   "outputs": [
    {
     "name": "stdout",
     "output_type": "stream",
     "text": [
      "72045\n"
     ]
    }
   ],
   "source": [
    "images = []\n",
    "\n",
    "for filename in images_filenames:\n",
    "    img_path = os.path.join(images_dir, filename)\n",
    "    img = cv2.imread(img_path, cv2.IMREAD_GRAYSCALE)\n",
    "    img = cv2.resize(img, (28, 28))\n",
    "    images.append(img)\n",
    "\n",
    "print(len(images))"
   ]
  },
  {
   "cell_type": "code",
   "execution_count": 10,
   "metadata": {},
   "outputs": [],
   "source": [
    "# Convert lists to numpy array\n",
    "X = np.array(images)\n",
    "\n",
    "# Add Channel dimension\n",
    "X = X[..., np.newaxis]\n",
    "\n",
    "# Normalize pixel values\n",
    "X = X.astype('float32') / 255.0\n",
    "\n",
    "# One-Hot-Encode the labels\n",
    "y = to_categorical(labels, num_classes=10)"
   ]
  },
  {
   "cell_type": "code",
   "execution_count": 11,
   "metadata": {},
   "outputs": [
    {
     "name": "stdout",
     "output_type": "stream",
     "text": [
      "(72045, 28, 28, 1)\n",
      "(72045, 10)\n"
     ]
    }
   ],
   "source": [
    "print(X.shape)\n",
    "print(y.shape)"
   ]
  },
  {
   "cell_type": "code",
   "execution_count": 12,
   "metadata": {},
   "outputs": [
    {
     "name": "stdout",
     "output_type": "stream",
     "text": [
      "(54033, 28, 28, 1)\n",
      "float32\n",
      "(54033, 10)\n",
      "float64\n",
      "\n",
      "\n",
      "(18012, 28, 28, 1)\n",
      "(18012, 10)\n"
     ]
    }
   ],
   "source": [
    "X_train, X_test, y_train, y_test = train_test_split(X, y, test_size=0.25, random_state=42)\n",
    "\n",
    "print(X_train.shape)\n",
    "print(X_train.dtype)\n",
    "print(y_train.shape)\n",
    "print(y_train.dtype)\n",
    "print('\\n')\n",
    "print(X_test.shape)\n",
    "print(y_test.shape)"
   ]
  },
  {
   "cell_type": "markdown",
   "metadata": {},
   "source": [
    "## Visualization"
   ]
  },
  {
   "cell_type": "code",
   "execution_count": 13,
   "metadata": {},
   "outputs": [
    {
     "data": {
      "image/png": "[encoded data removed]",
      "text/plain": [
       "<Figure size 400x400 with 40 Axes>"
      ]
     },
     "metadata": {},
     "output_type": "display_data"
    }
   ],
   "source": [
    "\n",
    "img_list = []\n",
    "no_samples_to_Show = 20\n",
    "# Select random images from X_train\n",
    "random_indices = random.sample(range(X_train.shape[0]), no_samples_to_Show)\n",
    "\n",
    "for i in random_indices:\n",
    "    img_list.append(X_train[i])\n",
    "\n",
    "fig = plt.figure(figsize=(4, 4))\n",
    "\n",
    "grid = ImageGrid(fig, 111, nrows_ncols=(5, 4), axes_pad=0.1)\n",
    "\n",
    "for ax, im in zip(grid, img_list):\n",
    "    ax.imshow(im, 'grey')\n",
    "\n",
    "plt.show()"
   ]
  },
  {
   "cell_type": "markdown",
   "metadata": {},
   "source": [
    "## CNN Model Building "
   ]
  },
  {
   "cell_type": "code",
   "execution_count": 14,
   "metadata": {},
   "outputs": [],
   "source": [
    "def buildCNNmodel(no_classes):\n",
    "\n",
    "    No_CLASSES = no_classes\n",
    "\n",
    "    model = tf.keras.Sequential([\n",
    "        tf.keras.layers.Conv2D(16, (3, 3), activation='relu', input_shape=(28, 28, 1)),\n",
    "        tf.keras.layers.MaxPooling2D(2, 2),\n",
    "        tf.keras.layers.Conv2D(32, (3, 3), activation='relu'),\n",
    "        tf.keras.layers.MaxPooling2D(2, 2),\n",
    "        tf.keras.layers.Conv2D(64, (3, 3), activation='relu'),\n",
    "        tf.keras.layers.Flatten(),\n",
    "\n",
    "        tf.keras.layers.Dense(128, activation='relu'),\n",
    "        tf.keras.layers.Dense(No_CLASSES, activation='softmax')\n",
    "    ])\n",
    "\n",
    "    optimizer = 'adam'\n",
    "\n",
    "    model.compile(optimizer=optimizer, \n",
    "                  loss = tf.keras.losses.SparseCategoricalCrossentropy(from_logits=False),\n",
    "                  metrics=['accuracy'])\n",
    "    \n",
    "    return model"
   ]
  },
  {
   "cell_type": "code",
   "execution_count": 15,
   "metadata": {},
   "outputs": [
    {
     "name": "stderr",
     "output_type": "stream",
     "text": [
      "c:\\Users\\Arnab Gupta\\anaconda3\\Lib\\site-packages\\keras\\src\\layers\\convolutional\\base_conv.py:107: UserWarning: Do not pass an `input_shape`/`input_dim` argument to a layer. When using Sequential models, prefer using an `Input(shape)` object as the first layer in the model instead.\n",
      "  super().__init__(activity_regularizer=activity_regularizer, **kwargs)\n"
     ]
    },
    {
     "data": {
      "text/html": [
       "<pre style=\"white-space:pre;overflow-x:auto;line-height:normal;font-family:Menlo,'DejaVu Sans Mono',consolas,'Courier New',monospace\"><span style=\"font-weight: bold\">Model: \"sequential\"</span>\n",
       "</pre>\n"
      ],
      "text/plain": [
       "\u001b[1mModel: \"sequential\"\u001b[0m\n"
      ]
     },
     "metadata": {},
     "output_type": "display_data"
    },
    {
     "data": {
      "text/html": [
       "<pre style=\"white-space:pre;overflow-x:auto;line-height:normal;font-family:Menlo,'DejaVu Sans Mono',consolas,'Courier New',monospace\">┏━━━━━━━━━━━━━━━━━━━━━━━━━━━━━━━━━┳━━━━━━━━━━━━━━━━━━━━━━━━┳━━━━━━━━━━━━━━━┓\n",
       "┃<span style=\"font-weight: bold\"> Layer (type)                    </span>┃<span style=\"font-weight: bold\"> Output Shape           </span>┃<span style=\"font-weight: bold\">       Param # </span>┃\n",
       "┡━━━━━━━━━━━━━━━━━━━━━━━━━━━━━━━━━╇━━━━━━━━━━━━━━━━━━━━━━━━╇━━━━━━━━━━━━━━━┩\n",
       "│ conv2d (<span style=\"color: #0087ff; text-decoration-color: #0087ff\">Conv2D</span>)                 │ (<span style=\"color: #00d7ff; text-decoration-color: #00d7ff\">None</span>, <span style=\"color: #00af00; text-decoration-color: #00af00\">26</span>, <span style=\"color: #00af00; text-decoration-color: #00af00\">26</span>, <span style=\"color: #00af00; text-decoration-color: #00af00\">16</span>)     │           <span style=\"color: #00af00; text-decoration-color: #00af00\">160</span> │\n",
       "├─────────────────────────────────┼────────────────────────┼───────────────┤\n",
       "│ max_pooling2d (<span style=\"color: #0087ff; text-decoration-color: #0087ff\">MaxPooling2D</span>)    │ (<span style=\"color: #00d7ff; text-decoration-color: #00d7ff\">None</span>, <span style=\"color: #00af00; text-decoration-color: #00af00\">13</span>, <span style=\"color: #00af00; text-decoration-color: #00af00\">13</span>, <span style=\"color: #00af00; text-decoration-color: #00af00\">16</span>)     │             <span style=\"color: #00af00; text-decoration-color: #00af00\">0</span> │\n",
       "├─────────────────────────────────┼────────────────────────┼───────────────┤\n",
       "│ conv2d_1 (<span style=\"color: #0087ff; text-decoration-color: #0087ff\">Conv2D</span>)               │ (<span style=\"color: #00d7ff; text-decoration-color: #00d7ff\">None</span>, <span style=\"color: #00af00; text-decoration-color: #00af00\">11</span>, <span style=\"color: #00af00; text-decoration-color: #00af00\">11</span>, <span style=\"color: #00af00; text-decoration-color: #00af00\">32</span>)     │         <span style=\"color: #00af00; text-decoration-color: #00af00\">4,640</span> │\n",
       "├─────────────────────────────────┼────────────────────────┼───────────────┤\n",
       "│ max_pooling2d_1 (<span style=\"color: #0087ff; text-decoration-color: #0087ff\">MaxPooling2D</span>)  │ (<span style=\"color: #00d7ff; text-decoration-color: #00d7ff\">None</span>, <span style=\"color: #00af00; text-decoration-color: #00af00\">5</span>, <span style=\"color: #00af00; text-decoration-color: #00af00\">5</span>, <span style=\"color: #00af00; text-decoration-color: #00af00\">32</span>)       │             <span style=\"color: #00af00; text-decoration-color: #00af00\">0</span> │\n",
       "├─────────────────────────────────┼────────────────────────┼───────────────┤\n",
       "│ conv2d_2 (<span style=\"color: #0087ff; text-decoration-color: #0087ff\">Conv2D</span>)               │ (<span style=\"color: #00d7ff; text-decoration-color: #00d7ff\">None</span>, <span style=\"color: #00af00; text-decoration-color: #00af00\">3</span>, <span style=\"color: #00af00; text-decoration-color: #00af00\">3</span>, <span style=\"color: #00af00; text-decoration-color: #00af00\">64</span>)       │        <span style=\"color: #00af00; text-decoration-color: #00af00\">18,496</span> │\n",
       "├─────────────────────────────────┼────────────────────────┼───────────────┤\n",
       "│ flatten (<span style=\"color: #0087ff; text-decoration-color: #0087ff\">Flatten</span>)               │ (<span style=\"color: #00d7ff; text-decoration-color: #00d7ff\">None</span>, <span style=\"color: #00af00; text-decoration-color: #00af00\">576</span>)            │             <span style=\"color: #00af00; text-decoration-color: #00af00\">0</span> │\n",
       "├─────────────────────────────────┼────────────────────────┼───────────────┤\n",
       "│ dense (<span style=\"color: #0087ff; text-decoration-color: #0087ff\">Dense</span>)                   │ (<span style=\"color: #00d7ff; text-decoration-color: #00d7ff\">None</span>, <span style=\"color: #00af00; text-decoration-color: #00af00\">128</span>)            │        <span style=\"color: #00af00; text-decoration-color: #00af00\">73,856</span> │\n",
       "├─────────────────────────────────┼────────────────────────┼───────────────┤\n",
       "│ dense_1 (<span style=\"color: #0087ff; text-decoration-color: #0087ff\">Dense</span>)                 │ (<span style=\"color: #00d7ff; text-decoration-color: #00d7ff\">None</span>, <span style=\"color: #00af00; text-decoration-color: #00af00\">10</span>)             │         <span style=\"color: #00af00; text-decoration-color: #00af00\">1,290</span> │\n",
       "└─────────────────────────────────┴────────────────────────┴───────────────┘\n",
       "</pre>\n"
      ],
      "text/plain": [
       "┏━━━━━━━━━━━━━━━━━━━━━━━━━━━━━━━━━┳━━━━━━━━━━━━━━━━━━━━━━━━┳━━━━━━━━━━━━━━━┓\n",
       "┃\u001b[1m \u001b[0m\u001b[1mLayer (type)                   \u001b[0m\u001b[1m \u001b[0m┃\u001b[1m \u001b[0m\u001b[1mOutput Shape          \u001b[0m\u001b[1m \u001b[0m┃\u001b[1m \u001b[0m\u001b[1m      Param #\u001b[0m\u001b[1m \u001b[0m┃\n",
       "┡━━━━━━━━━━━━━━━━━━━━━━━━━━━━━━━━━╇━━━━━━━━━━━━━━━━━━━━━━━━╇━━━━━━━━━━━━━━━┩\n",
       "│ conv2d (\u001b[38;5;33mConv2D\u001b[0m)                 │ (\u001b[38;5;45mNone\u001b[0m, \u001b[38;5;34m26\u001b[0m, \u001b[38;5;34m26\u001b[0m, \u001b[38;5;34m16\u001b[0m)     │           \u001b[38;5;34m160\u001b[0m │\n",
       "├─────────────────────────────────┼────────────────────────┼───────────────┤\n",
       "│ max_pooling2d (\u001b[38;5;33mMaxPooling2D\u001b[0m)    │ (\u001b[38;5;45mNone\u001b[0m, \u001b[38;5;34m13\u001b[0m, \u001b[38;5;34m13\u001b[0m, \u001b[38;5;34m16\u001b[0m)     │             \u001b[38;5;34m0\u001b[0m │\n",
       "├─────────────────────────────────┼────────────────────────┼───────────────┤\n",
       "│ conv2d_1 (\u001b[38;5;33mConv2D\u001b[0m)               │ (\u001b[38;5;45mNone\u001b[0m, \u001b[38;5;34m11\u001b[0m, \u001b[38;5;34m11\u001b[0m, \u001b[38;5;34m32\u001b[0m)     │         \u001b[38;5;34m4,640\u001b[0m │\n",
       "├─────────────────────────────────┼────────────────────────┼───────────────┤\n",
       "│ max_pooling2d_1 (\u001b[38;5;33mMaxPooling2D\u001b[0m)  │ (\u001b[38;5;45mNone\u001b[0m, \u001b[38;5;34m5\u001b[0m, \u001b[38;5;34m5\u001b[0m, \u001b[38;5;34m32\u001b[0m)       │             \u001b[38;5;34m0\u001b[0m │\n",
       "├─────────────────────────────────┼────────────────────────┼───────────────┤\n",
       "│ conv2d_2 (\u001b[38;5;33mConv2D\u001b[0m)               │ (\u001b[38;5;45mNone\u001b[0m, \u001b[38;5;34m3\u001b[0m, \u001b[38;5;34m3\u001b[0m, \u001b[38;5;34m64\u001b[0m)       │        \u001b[38;5;34m18,496\u001b[0m │\n",
       "├─────────────────────────────────┼────────────────────────┼───────────────┤\n",
       "│ flatten (\u001b[38;5;33mFlatten\u001b[0m)               │ (\u001b[38;5;45mNone\u001b[0m, \u001b[38;5;34m576\u001b[0m)            │             \u001b[38;5;34m0\u001b[0m │\n",
       "├─────────────────────────────────┼────────────────────────┼───────────────┤\n",
       "│ dense (\u001b[38;5;33mDense\u001b[0m)                   │ (\u001b[38;5;45mNone\u001b[0m, \u001b[38;5;34m128\u001b[0m)            │        \u001b[38;5;34m73,856\u001b[0m │\n",
       "├─────────────────────────────────┼────────────────────────┼───────────────┤\n",
       "│ dense_1 (\u001b[38;5;33mDense\u001b[0m)                 │ (\u001b[38;5;45mNone\u001b[0m, \u001b[38;5;34m10\u001b[0m)             │         \u001b[38;5;34m1,290\u001b[0m │\n",
       "└─────────────────────────────────┴────────────────────────┴───────────────┘\n"
      ]
     },
     "metadata": {},
     "output_type": "display_data"
    },
    {
     "data": {
      "text/html": [
       "<pre style=\"white-space:pre;overflow-x:auto;line-height:normal;font-family:Menlo,'DejaVu Sans Mono',consolas,'Courier New',monospace\"><span style=\"font-weight: bold\"> Total params: </span><span style=\"color: #00af00; text-decoration-color: #00af00\">98,442</span> (384.54 KB)\n",
       "</pre>\n"
      ],
      "text/plain": [
       "\u001b[1m Total params: \u001b[0m\u001b[38;5;34m98,442\u001b[0m (384.54 KB)\n"
      ]
     },
     "metadata": {},
     "output_type": "display_data"
    },
    {
     "data": {
      "text/html": [
       "<pre style=\"white-space:pre;overflow-x:auto;line-height:normal;font-family:Menlo,'DejaVu Sans Mono',consolas,'Courier New',monospace\"><span style=\"font-weight: bold\"> Trainable params: </span><span style=\"color: #00af00; text-decoration-color: #00af00\">98,442</span> (384.54 KB)\n",
       "</pre>\n"
      ],
      "text/plain": [
       "\u001b[1m Trainable params: \u001b[0m\u001b[38;5;34m98,442\u001b[0m (384.54 KB)\n"
      ]
     },
     "metadata": {},
     "output_type": "display_data"
    },
    {
     "data": {
      "text/html": [
       "<pre style=\"white-space:pre;overflow-x:auto;line-height:normal;font-family:Menlo,'DejaVu Sans Mono',consolas,'Courier New',monospace\"><span style=\"font-weight: bold\"> Non-trainable params: </span><span style=\"color: #00af00; text-decoration-color: #00af00\">0</span> (0.00 B)\n",
       "</pre>\n"
      ],
      "text/plain": [
       "\u001b[1m Non-trainable params: \u001b[0m\u001b[38;5;34m0\u001b[0m (0.00 B)\n"
      ]
     },
     "metadata": {},
     "output_type": "display_data"
    }
   ],
   "source": [
    "# Convert one-hot encoded labels to integer labels\n",
    "y_train_int = np.argmax(y_train, axis=1)\n",
    "y_test_int = np.argmax(y_test, axis=1)\n",
    "\n",
    "CNNmodel = buildCNNmodel(no_classes=10)\n",
    "\n",
    "CNNmodel.summary()"
   ]
  },
  {
   "cell_type": "code",
   "execution_count": 16,
   "metadata": {},
   "outputs": [
    {
     "name": "stdout",
     "output_type": "stream",
     "text": [
      "Epoch 1/150\n",
      "\u001b[1m1351/1351\u001b[0m \u001b[32m━━━━━━━━━━━━━━━━━━━━\u001b[0m\u001b[37m\u001b[0m \u001b[1m19s\u001b[0m 12ms/step - accuracy: 0.4064 - loss: 1.7469 - val_accuracy: 0.6941 - val_loss: 1.1061\n",
      "Epoch 2/150\n",
      "\u001b[1m1351/1351\u001b[0m \u001b[32m━━━━━━━━━━━━━━━━━━━━\u001b[0m\u001b[37m\u001b[0m \u001b[1m18s\u001b[0m 13ms/step - accuracy: 0.7246 - loss: 0.9916 - val_accuracy: 0.7602 - val_loss: 0.8441\n",
      "Epoch 3/150\n",
      "\u001b[1m1351/1351\u001b[0m \u001b[32m━━━━━━━━━━━━━━━━━━━━\u001b[0m\u001b[37m\u001b[0m \u001b[1m18s\u001b[0m 13ms/step - accuracy: 0.7714 - loss: 0.7838 - val_accuracy: 0.7760 - val_loss: 0.7697\n",
      "Epoch 4/150\n",
      "\u001b[1m1351/1351\u001b[0m \u001b[32m━━━━━━━━━━━━━━━━━━━━\u001b[0m\u001b[37m\u001b[0m \u001b[1m19s\u001b[0m 14ms/step - accuracy: 0.7890 - loss: 0.6994 - val_accuracy: 0.7857 - val_loss: 0.7099\n",
      "Epoch 5/150\n",
      "\u001b[1m1351/1351\u001b[0m \u001b[32m━━━━━━━━━━━━━━━━━━━━\u001b[0m\u001b[37m\u001b[0m \u001b[1m20s\u001b[0m 15ms/step - accuracy: 0.8064 - loss: 0.6272 - val_accuracy: 0.7967 - val_loss: 0.6715\n",
      "Epoch 6/150\n",
      "\u001b[1m1351/1351\u001b[0m \u001b[32m━━━━━━━━━━━━━━━━━━━━\u001b[0m\u001b[37m\u001b[0m \u001b[1m21s\u001b[0m 15ms/step - accuracy: 0.8188 - loss: 0.5822 - val_accuracy: 0.7986 - val_loss: 0.6929\n",
      "Epoch 7/150\n",
      "\u001b[1m1351/1351\u001b[0m \u001b[32m━━━━━━━━━━━━━━━━━━━━\u001b[0m\u001b[37m\u001b[0m \u001b[1m22s\u001b[0m 16ms/step - accuracy: 0.8238 - loss: 0.5580 - val_accuracy: 0.7895 - val_loss: 0.6995\n",
      "Epoch 8/150\n",
      "\u001b[1m1351/1351\u001b[0m \u001b[32m━━━━━━━━━━━━━━━━━━━━\u001b[0m\u001b[37m\u001b[0m \u001b[1m22s\u001b[0m 16ms/step - accuracy: 0.8353 - loss: 0.5156 - val_accuracy: 0.8054 - val_loss: 0.6615\n",
      "Epoch 9/150\n",
      "\u001b[1m1351/1351\u001b[0m \u001b[32m━━━━━━━━━━━━━━━━━━━━\u001b[0m\u001b[37m\u001b[0m \u001b[1m19s\u001b[0m 14ms/step - accuracy: 0.8401 - loss: 0.4901 - val_accuracy: 0.7968 - val_loss: 0.6527\n",
      "Epoch 10/150\n",
      "\u001b[1m1351/1351\u001b[0m \u001b[32m━━━━━━━━━━━━━━━━━━━━\u001b[0m\u001b[37m\u001b[0m \u001b[1m15s\u001b[0m 11ms/step - accuracy: 0.8472 - loss: 0.4640 - val_accuracy: 0.7932 - val_loss: 0.7211\n",
      "Epoch 11/150\n",
      "\u001b[1m1351/1351\u001b[0m \u001b[32m━━━━━━━━━━━━━━━━━━━━\u001b[0m\u001b[37m\u001b[0m \u001b[1m16s\u001b[0m 12ms/step - accuracy: 0.8556 - loss: 0.4382 - val_accuracy: 0.7962 - val_loss: 0.7012\n",
      "Epoch 12/150\n",
      "\u001b[1m1351/1351\u001b[0m \u001b[32m━━━━━━━━━━━━━━━━━━━━\u001b[0m\u001b[37m\u001b[0m \u001b[1m19s\u001b[0m 14ms/step - accuracy: 0.8593 - loss: 0.4235 - val_accuracy: 0.8031 - val_loss: 0.7020\n",
      "Epoch 13/150\n",
      "\u001b[1m1351/1351\u001b[0m \u001b[32m━━━━━━━━━━━━━━━━━━━━\u001b[0m\u001b[37m\u001b[0m \u001b[1m21s\u001b[0m 16ms/step - accuracy: 0.8683 - loss: 0.3940 - val_accuracy: 0.7984 - val_loss: 0.6922\n",
      "Epoch 14/150\n",
      "\u001b[1m1351/1351\u001b[0m \u001b[32m━━━━━━━━━━━━━━━━━━━━\u001b[0m\u001b[37m\u001b[0m \u001b[1m20s\u001b[0m 15ms/step - accuracy: 0.8722 - loss: 0.3778 - val_accuracy: 0.8008 - val_loss: 0.7653\n",
      "Epoch 15/150\n",
      "\u001b[1m1351/1351\u001b[0m \u001b[32m━━━━━━━━━━━━━━━━━━━━\u001b[0m\u001b[37m\u001b[0m \u001b[1m19s\u001b[0m 14ms/step - accuracy: 0.8803 - loss: 0.3541 - val_accuracy: 0.7938 - val_loss: 0.7582\n",
      "Epoch 16/150\n",
      "\u001b[1m1351/1351\u001b[0m \u001b[32m━━━━━━━━━━━━━━━━━━━━\u001b[0m\u001b[37m\u001b[0m \u001b[1m18s\u001b[0m 13ms/step - accuracy: 0.8835 - loss: 0.3453 - val_accuracy: 0.7973 - val_loss: 0.8342\n",
      "Epoch 17/150\n",
      "\u001b[1m1351/1351\u001b[0m \u001b[32m━━━━━━━━━━━━━━━━━━━━\u001b[0m\u001b[37m\u001b[0m \u001b[1m16s\u001b[0m 12ms/step - accuracy: 0.8903 - loss: 0.3225 - val_accuracy: 0.7943 - val_loss: 0.7770\n",
      "Epoch 18/150\n",
      "\u001b[1m1351/1351\u001b[0m \u001b[32m━━━━━━━━━━━━━━━━━━━━\u001b[0m\u001b[37m\u001b[0m \u001b[1m17s\u001b[0m 13ms/step - accuracy: 0.8946 - loss: 0.3078 - val_accuracy: 0.7979 - val_loss: 0.8463\n",
      "Epoch 19/150\n",
      "\u001b[1m1351/1351\u001b[0m \u001b[32m━━━━━━━━━━━━━━━━━━━━\u001b[0m\u001b[37m\u001b[0m \u001b[1m18s\u001b[0m 13ms/step - accuracy: 0.8994 - loss: 0.2926 - val_accuracy: 0.8001 - val_loss: 0.8930\n",
      "Epoch 20/150\n",
      "\u001b[1m1351/1351\u001b[0m \u001b[32m━━━━━━━━━━━━━━━━━━━━\u001b[0m\u001b[37m\u001b[0m \u001b[1m18s\u001b[0m 14ms/step - accuracy: 0.9089 - loss: 0.2665 - val_accuracy: 0.7999 - val_loss: 0.8982\n",
      "Epoch 21/150\n",
      "\u001b[1m1351/1351\u001b[0m \u001b[32m━━━━━━━━━━━━━━━━━━━━\u001b[0m\u001b[37m\u001b[0m \u001b[1m18s\u001b[0m 13ms/step - accuracy: 0.9153 - loss: 0.2524 - val_accuracy: 0.7816 - val_loss: 0.9116\n",
      "Epoch 22/150\n",
      "\u001b[1m1351/1351\u001b[0m \u001b[32m━━━━━━━━━━━━━━━━━━━━\u001b[0m\u001b[37m\u001b[0m \u001b[1m18s\u001b[0m 13ms/step - accuracy: 0.9171 - loss: 0.2437 - val_accuracy: 0.7888 - val_loss: 1.0611\n",
      "Epoch 23/150\n",
      "\u001b[1m1351/1351\u001b[0m \u001b[32m━━━━━━━━━━━━━━━━━━━━\u001b[0m\u001b[37m\u001b[0m \u001b[1m18s\u001b[0m 13ms/step - accuracy: 0.9242 - loss: 0.2260 - val_accuracy: 0.7948 - val_loss: 1.0627\n",
      "Epoch 24/150\n",
      "\u001b[1m1351/1351\u001b[0m \u001b[32m━━━━━━━━━━━━━━━━━━━━\u001b[0m\u001b[37m\u001b[0m \u001b[1m19s\u001b[0m 14ms/step - accuracy: 0.9266 - loss: 0.2167 - val_accuracy: 0.7903 - val_loss: 1.1465\n",
      "Epoch 25/150\n",
      "\u001b[1m1351/1351\u001b[0m \u001b[32m━━━━━━━━━━━━━━━━━━━━\u001b[0m\u001b[37m\u001b[0m \u001b[1m19s\u001b[0m 14ms/step - accuracy: 0.9286 - loss: 0.2068 - val_accuracy: 0.7932 - val_loss: 1.1253\n",
      "Epoch 26/150\n",
      "\u001b[1m1351/1351\u001b[0m \u001b[32m━━━━━━━━━━━━━━━━━━━━\u001b[0m\u001b[37m\u001b[0m \u001b[1m19s\u001b[0m 14ms/step - accuracy: 0.9369 - loss: 0.1872 - val_accuracy: 0.7898 - val_loss: 1.1778\n",
      "Epoch 27/150\n",
      "\u001b[1m1351/1351\u001b[0m \u001b[32m━━━━━━━━━━━━━━━━━━━━\u001b[0m\u001b[37m\u001b[0m \u001b[1m18s\u001b[0m 13ms/step - accuracy: 0.9419 - loss: 0.1714 - val_accuracy: 0.7862 - val_loss: 1.2875\n",
      "Epoch 28/150\n",
      "\u001b[1m1351/1351\u001b[0m \u001b[32m━━━━━━━━━━━━━━━━━━━━\u001b[0m\u001b[37m\u001b[0m \u001b[1m19s\u001b[0m 14ms/step - accuracy: 0.9406 - loss: 0.1744 - val_accuracy: 0.7879 - val_loss: 1.3389\n",
      "Epoch 29/150\n",
      "\u001b[1m1351/1351\u001b[0m \u001b[32m━━━━━━━━━━━━━━━━━━━━\u001b[0m\u001b[37m\u001b[0m \u001b[1m18s\u001b[0m 13ms/step - accuracy: 0.9480 - loss: 0.1537 - val_accuracy: 0.7802 - val_loss: 1.2342\n",
      "Epoch 30/150\n",
      "\u001b[1m1351/1351\u001b[0m \u001b[32m━━━━━━━━━━━━━━━━━━━━\u001b[0m\u001b[37m\u001b[0m \u001b[1m18s\u001b[0m 13ms/step - accuracy: 0.9516 - loss: 0.1452 - val_accuracy: 0.7849 - val_loss: 1.2892\n",
      "Epoch 31/150\n",
      "\u001b[1m1351/1351\u001b[0m \u001b[32m━━━━━━━━━━━━━━━━━━━━\u001b[0m\u001b[37m\u001b[0m \u001b[1m19s\u001b[0m 14ms/step - accuracy: 0.9531 - loss: 0.1415 - val_accuracy: 0.7867 - val_loss: 1.4030\n",
      "Epoch 32/150\n",
      "\u001b[1m1351/1351\u001b[0m \u001b[32m━━━━━━━━━━━━━━━━━━━━\u001b[0m\u001b[37m\u001b[0m \u001b[1m20s\u001b[0m 14ms/step - accuracy: 0.9556 - loss: 0.1317 - val_accuracy: 0.7924 - val_loss: 1.5256\n",
      "Epoch 33/150\n",
      "\u001b[1m1351/1351\u001b[0m \u001b[32m━━━━━━━━━━━━━━━━━━━━\u001b[0m\u001b[37m\u001b[0m \u001b[1m19s\u001b[0m 14ms/step - accuracy: 0.9555 - loss: 0.1334 - val_accuracy: 0.7888 - val_loss: 1.4972\n",
      "Epoch 34/150\n",
      "\u001b[1m1351/1351\u001b[0m \u001b[32m━━━━━━━━━━━━━━━━━━━━\u001b[0m\u001b[37m\u001b[0m \u001b[1m18s\u001b[0m 14ms/step - accuracy: 0.9608 - loss: 0.1197 - val_accuracy: 0.7839 - val_loss: 1.6571\n",
      "Epoch 35/150\n",
      "\u001b[1m1351/1351\u001b[0m \u001b[32m━━━━━━━━━━━━━━━━━━━━\u001b[0m\u001b[37m\u001b[0m \u001b[1m17s\u001b[0m 12ms/step - accuracy: 0.9605 - loss: 0.1225 - val_accuracy: 0.7771 - val_loss: 1.5388\n",
      "Epoch 36/150\n",
      "\u001b[1m1351/1351\u001b[0m \u001b[32m━━━━━━━━━━━━━━━━━━━━\u001b[0m\u001b[37m\u001b[0m \u001b[1m15s\u001b[0m 11ms/step - accuracy: 0.9613 - loss: 0.1185 - val_accuracy: 0.7783 - val_loss: 1.7212\n",
      "Epoch 37/150\n",
      "\u001b[1m1351/1351\u001b[0m \u001b[32m━━━━━━━━━━━━━━━━━━━━\u001b[0m\u001b[37m\u001b[0m \u001b[1m18s\u001b[0m 14ms/step - accuracy: 0.9642 - loss: 0.1114 - val_accuracy: 0.7931 - val_loss: 1.7041\n",
      "Epoch 38/150\n",
      "\u001b[1m1351/1351\u001b[0m \u001b[32m━━━━━━━━━━━━━━━━━━━━\u001b[0m\u001b[37m\u001b[0m \u001b[1m16s\u001b[0m 12ms/step - accuracy: 0.9618 - loss: 0.1197 - val_accuracy: 0.7843 - val_loss: 1.6893\n",
      "Epoch 39/150\n",
      "\u001b[1m1351/1351\u001b[0m \u001b[32m━━━━━━━━━━━━━━━━━━━━\u001b[0m\u001b[37m\u001b[0m \u001b[1m18s\u001b[0m 14ms/step - accuracy: 0.9659 - loss: 0.1065 - val_accuracy: 0.7860 - val_loss: 1.8569\n",
      "Epoch 40/150\n",
      "\u001b[1m1351/1351\u001b[0m \u001b[32m━━━━━━━━━━━━━━━━━━━━\u001b[0m\u001b[37m\u001b[0m \u001b[1m24s\u001b[0m 17ms/step - accuracy: 0.9689 - loss: 0.0936 - val_accuracy: 0.7823 - val_loss: 1.7795\n",
      "Epoch 41/150\n",
      "\u001b[1m1351/1351\u001b[0m \u001b[32m━━━━━━━━━━━━━━━━━━━━\u001b[0m\u001b[37m\u001b[0m \u001b[1m17s\u001b[0m 12ms/step - accuracy: 0.9711 - loss: 0.0919 - val_accuracy: 0.7902 - val_loss: 1.9166\n",
      "Epoch 42/150\n",
      "\u001b[1m1351/1351\u001b[0m \u001b[32m━━━━━━━━━━━━━━━━━━━━\u001b[0m\u001b[37m\u001b[0m \u001b[1m16s\u001b[0m 11ms/step - accuracy: 0.9745 - loss: 0.0826 - val_accuracy: 0.7701 - val_loss: 2.0022\n",
      "Epoch 43/150\n",
      "\u001b[1m1351/1351\u001b[0m \u001b[32m━━━━━━━━━━━━━━━━━━━━\u001b[0m\u001b[37m\u001b[0m \u001b[1m24s\u001b[0m 18ms/step - accuracy: 0.9658 - loss: 0.1064 - val_accuracy: 0.7812 - val_loss: 1.9482\n",
      "Epoch 44/150\n",
      "\u001b[1m1351/1351\u001b[0m \u001b[32m━━━━━━━━━━━━━━━━━━━━\u001b[0m\u001b[37m\u001b[0m \u001b[1m18s\u001b[0m 13ms/step - accuracy: 0.9755 - loss: 0.0788 - val_accuracy: 0.7738 - val_loss: 2.0291\n",
      "Epoch 45/150\n",
      "\u001b[1m1351/1351\u001b[0m \u001b[32m━━━━━━━━━━━━━━━━━━━━\u001b[0m\u001b[37m\u001b[0m \u001b[1m15s\u001b[0m 11ms/step - accuracy: 0.9768 - loss: 0.0743 - val_accuracy: 0.7927 - val_loss: 2.2691\n",
      "Epoch 46/150\n",
      "\u001b[1m1351/1351\u001b[0m \u001b[32m━━━━━━━━━━━━━━━━━━━━\u001b[0m\u001b[37m\u001b[0m \u001b[1m19s\u001b[0m 14ms/step - accuracy: 0.9724 - loss: 0.0924 - val_accuracy: 0.7901 - val_loss: 2.3841\n",
      "Epoch 47/150\n",
      "\u001b[1m1351/1351\u001b[0m \u001b[32m━━━━━━━━━━━━━━━━━━━━\u001b[0m\u001b[37m\u001b[0m \u001b[1m15s\u001b[0m 11ms/step - accuracy: 0.9757 - loss: 0.0760 - val_accuracy: 0.7783 - val_loss: 2.1217\n",
      "Epoch 48/150\n",
      "\u001b[1m1351/1351\u001b[0m \u001b[32m━━━━━━━━━━━━━━━━━━━━\u001b[0m\u001b[37m\u001b[0m \u001b[1m13s\u001b[0m 9ms/step - accuracy: 0.9734 - loss: 0.0885 - val_accuracy: 0.7702 - val_loss: 2.1106\n",
      "Epoch 49/150\n",
      "\u001b[1m1351/1351\u001b[0m \u001b[32m━━━━━━━━━━━━━━━━━━━━\u001b[0m\u001b[37m\u001b[0m \u001b[1m16s\u001b[0m 12ms/step - accuracy: 0.9743 - loss: 0.0829 - val_accuracy: 0.7873 - val_loss: 2.1935\n",
      "Epoch 50/150\n",
      "\u001b[1m1351/1351\u001b[0m \u001b[32m━━━━━━━━━━━━━━━━━━━━\u001b[0m\u001b[37m\u001b[0m \u001b[1m16s\u001b[0m 12ms/step - accuracy: 0.9758 - loss: 0.0796 - val_accuracy: 0.7870 - val_loss: 2.2189\n",
      "Epoch 51/150\n",
      "\u001b[1m1351/1351\u001b[0m \u001b[32m━━━━━━━━━━━━━━━━━━━━\u001b[0m\u001b[37m\u001b[0m \u001b[1m15s\u001b[0m 11ms/step - accuracy: 0.9781 - loss: 0.0694 - val_accuracy: 0.7888 - val_loss: 2.2955\n",
      "Epoch 52/150\n",
      "\u001b[1m1351/1351\u001b[0m \u001b[32m━━━━━━━━━━━━━━━━━━━━\u001b[0m\u001b[37m\u001b[0m \u001b[1m16s\u001b[0m 12ms/step - accuracy: 0.9794 - loss: 0.0643 - val_accuracy: 0.7848 - val_loss: 2.2833\n",
      "Epoch 53/150\n",
      "\u001b[1m1351/1351\u001b[0m \u001b[32m━━━━━━━━━━━━━━━━━━━━\u001b[0m\u001b[37m\u001b[0m \u001b[1m17s\u001b[0m 13ms/step - accuracy: 0.9768 - loss: 0.0771 - val_accuracy: 0.7860 - val_loss: 2.3837\n",
      "Epoch 54/150\n",
      "\u001b[1m1351/1351\u001b[0m \u001b[32m━━━━━━━━━━━━━━━━━━━━\u001b[0m\u001b[37m\u001b[0m \u001b[1m18s\u001b[0m 13ms/step - accuracy: 0.9765 - loss: 0.0763 - val_accuracy: 0.7861 - val_loss: 2.5900\n",
      "Epoch 55/150\n",
      "\u001b[1m1351/1351\u001b[0m \u001b[32m━━━━━━━━━━━━━━━━━━━━\u001b[0m\u001b[37m\u001b[0m \u001b[1m14s\u001b[0m 11ms/step - accuracy: 0.9804 - loss: 0.0625 - val_accuracy: 0.7809 - val_loss: 2.3505\n",
      "Epoch 56/150\n",
      "\u001b[1m1351/1351\u001b[0m \u001b[32m━━━━━━━━━━━━━━━━━━━━\u001b[0m\u001b[37m\u001b[0m \u001b[1m13s\u001b[0m 9ms/step - accuracy: 0.9749 - loss: 0.0802 - val_accuracy: 0.7831 - val_loss: 2.3951\n",
      "Epoch 57/150\n",
      "\u001b[1m1351/1351\u001b[0m \u001b[32m━━━━━━━━━━━━━━━━━━━━\u001b[0m\u001b[37m\u001b[0m \u001b[1m15s\u001b[0m 11ms/step - accuracy: 0.9782 - loss: 0.0701 - val_accuracy: 0.7821 - val_loss: 2.6118\n",
      "Epoch 58/150\n",
      "\u001b[1m1351/1351\u001b[0m \u001b[32m━━━━━━━━━━━━━━━━━━━━\u001b[0m\u001b[37m\u001b[0m \u001b[1m16s\u001b[0m 12ms/step - accuracy: 0.9829 - loss: 0.0528 - val_accuracy: 0.7784 - val_loss: 2.5063\n",
      "Epoch 59/150\n",
      "\u001b[1m1351/1351\u001b[0m \u001b[32m━━━━━━━━━━━━━━━━━━━━\u001b[0m\u001b[37m\u001b[0m \u001b[1m14s\u001b[0m 10ms/step - accuracy: 0.9756 - loss: 0.0838 - val_accuracy: 0.7859 - val_loss: 2.5561\n",
      "Epoch 60/150\n",
      "\u001b[1m1351/1351\u001b[0m \u001b[32m━━━━━━━━━━━━━━━━━━━━\u001b[0m\u001b[37m\u001b[0m \u001b[1m16s\u001b[0m 12ms/step - accuracy: 0.9796 - loss: 0.0637 - val_accuracy: 0.7828 - val_loss: 2.6950\n",
      "Epoch 61/150\n",
      "\u001b[1m1351/1351\u001b[0m \u001b[32m━━━━━━━━━━━━━━━━━━━━\u001b[0m\u001b[37m\u001b[0m \u001b[1m17s\u001b[0m 13ms/step - accuracy: 0.9804 - loss: 0.0649 - val_accuracy: 0.7794 - val_loss: 2.6326\n",
      "Epoch 62/150\n",
      "\u001b[1m1351/1351\u001b[0m \u001b[32m━━━━━━━━━━━━━━━━━━━━\u001b[0m\u001b[37m\u001b[0m \u001b[1m13s\u001b[0m 9ms/step - accuracy: 0.9808 - loss: 0.0639 - val_accuracy: 0.7775 - val_loss: 2.7791\n",
      "Epoch 63/150\n",
      "\u001b[1m1351/1351\u001b[0m \u001b[32m━━━━━━━━━━━━━━━━━━━━\u001b[0m\u001b[37m\u001b[0m \u001b[1m15s\u001b[0m 11ms/step - accuracy: 0.9823 - loss: 0.0566 - val_accuracy: 0.7801 - val_loss: 2.6759\n",
      "Epoch 64/150\n",
      "\u001b[1m1351/1351\u001b[0m \u001b[32m━━━━━━━━━━━━━━━━━━━━\u001b[0m\u001b[37m\u001b[0m \u001b[1m16s\u001b[0m 12ms/step - accuracy: 0.9769 - loss: 0.0776 - val_accuracy: 0.7895 - val_loss: 2.8037\n",
      "Epoch 65/150\n",
      "\u001b[1m1351/1351\u001b[0m \u001b[32m━━━━━━━━━━━━━━━━━━━━\u001b[0m\u001b[37m\u001b[0m \u001b[1m16s\u001b[0m 12ms/step - accuracy: 0.9832 - loss: 0.0575 - val_accuracy: 0.7873 - val_loss: 2.6428\n",
      "Epoch 66/150\n",
      "\u001b[1m1351/1351\u001b[0m \u001b[32m━━━━━━━━━━━━━━━━━━━━\u001b[0m\u001b[37m\u001b[0m \u001b[1m16s\u001b[0m 12ms/step - accuracy: 0.9820 - loss: 0.0622 - val_accuracy: 0.7818 - val_loss: 2.9110\n",
      "Epoch 67/150\n",
      "\u001b[1m1351/1351\u001b[0m \u001b[32m━━━━━━━━━━━━━━━━━━━━\u001b[0m\u001b[37m\u001b[0m \u001b[1m16s\u001b[0m 12ms/step - accuracy: 0.9829 - loss: 0.0555 - val_accuracy: 0.7772 - val_loss: 2.9037\n",
      "Epoch 68/150\n",
      "\u001b[1m1351/1351\u001b[0m \u001b[32m━━━━━━━━━━━━━━━━━━━━\u001b[0m\u001b[37m\u001b[0m \u001b[1m13s\u001b[0m 9ms/step - accuracy: 0.9797 - loss: 0.0682 - val_accuracy: 0.7823 - val_loss: 3.0792\n"
     ]
    },
    {
     "data": {
      "text/plain": [
       "<keras.src.callbacks.history.History at 0x2686c04e550>"
      ]
     },
     "execution_count": 16,
     "metadata": {},
     "output_type": "execute_result"
    }
   ],
   "source": [
    "early_stopping = EarlyStopping(monitor='accuracy', patience=5, restore_best_weights=True)\n",
    "\n",
    "CNNmodel.fit(X_train, y_train_int, \n",
    "          epochs=150, \n",
    "          validation_split=0.2, \n",
    "          batch_size=32,\n",
    "          callbacks=[early_stopping])"
   ]
  },
  {
   "cell_type": "code",
   "execution_count": 17,
   "metadata": {},
   "outputs": [
    {
     "name": "stdout",
     "output_type": "stream",
     "text": [
      "\u001b[1m1689/1689\u001b[0m \u001b[32m━━━━━━━━━━━━━━━━━━━━\u001b[0m\u001b[37m\u001b[0m \u001b[1m11s\u001b[0m 7ms/step - accuracy: 0.9800 - loss: 0.1094\n",
      "Eval Loss For Train    :    57.78\n",
      "Eval Accuracy Percentage For Train    :    94.32\n"
     ]
    }
   ],
   "source": [
    "eval_loss, eval_acc = CNNmodel.evaluate(X_train, y_train_int)\n",
    "\n",
    "print(f\"Eval Loss For Train    :    {eval_loss * 100:.2f}\")\n",
    "print(f\"Eval Accuracy Percentage For Train    :    {eval_acc * 100:.2f}\")"
   ]
  },
  {
   "cell_type": "code",
   "execution_count": 18,
   "metadata": {},
   "outputs": [
    {
     "name": "stdout",
     "output_type": "stream",
     "text": [
      "\u001b[1m563/563\u001b[0m \u001b[32m━━━━━━━━━━━━━━━━━━━━\u001b[0m\u001b[37m\u001b[0m \u001b[1m3s\u001b[0m 5ms/step - accuracy: 0.7765 - loss: 2.6626\n",
      "Eval Loss For Test    :    265.45\n",
      "Eval Accuracy Percentage For Test    :    77.77\n"
     ]
    }
   ],
   "source": [
    "eval_loss, eval_acc = CNNmodel.evaluate(X_test, y_test_int)\n",
    "\n",
    "print(f\"Eval Loss For Test    :    {eval_loss * 100:.2f}\")\n",
    "print(f\"Eval Accuracy Percentage For Test    :    {eval_acc * 100:.2f}\")"
   ]
  },
  {
   "cell_type": "code",
   "execution_count": 19,
   "metadata": {},
   "outputs": [],
   "source": [
    "with open(\"bengali_mnist_cnn_model.pkl\", \"wb\") as f:\n",
    "    pickle.dump(CNNmodel, f)"
   ]
  },
  {
   "cell_type": "markdown",
   "metadata": {},
   "source": [
    "## MLP Image Processing"
   ]
  },
  {
   "cell_type": "code",
   "execution_count": 20,
   "metadata": {},
   "outputs": [],
   "source": [
    "# def buildMLPmodel(no_classes):\n",
    "\n",
    "#     No_CLASSES = no_classes\n",
    "\n",
    "#     model = tf.keras.Sequential([\n",
    "#         tf.keras.layers.Flatten(input_shape=(28, 28, 1)),\n",
    "#         tf.keras.layers.Dense(256, activation='relu'),\n",
    "#         tf.keras.layers.Dense(No_CLASSES, activation='softmax')\n",
    "#     ])\n",
    "\n",
    "#     model.compile(optimizer='adam',\n",
    "#                   loss = tf.keras.losses.SparseCategoricalCrossentropy(from_logits=False),\n",
    "#                   metrics=['accuracy'])\n",
    "    \n",
    "#     return model\n",
    "\n"
   ]
  },
  {
   "cell_type": "code",
   "execution_count": 21,
   "metadata": {},
   "outputs": [],
   "source": [
    "# model = buildMLPmodel(no_classes=10)\n",
    "\n",
    "# model.fit(X_train, y_train_int, \n",
    "#           epochs=100, \n",
    "#           validation_split=0.2, \n",
    "#           batch_size=32,\n",
    "#           callbacks=[early_stopping]\n",
    "#         )\n"
   ]
  },
  {
   "cell_type": "code",
   "execution_count": 22,
   "metadata": {},
   "outputs": [],
   "source": [
    "# eval_loss, eval_acc = model.evaluate(X_train, y_train_int)\n",
    "\n",
    "# print(f\"Eval Loss For Train    :    {eval_loss * 100:.2f}\")\n",
    "# print(f\"Eval Accuracy Percentage For Train    :    {eval_acc * 100:.2f}\")\n"
   ]
  },
  {
   "cell_type": "code",
   "execution_count": 23,
   "metadata": {},
   "outputs": [],
   "source": [
    "# eval_loss, eval_acc = model.evaluate(X_test, y_test_int)\n",
    "\n",
    "# print(f\"Eval Loss For Test    :    {eval_loss * 100:.2f}\")\n",
    "# print(f\"Eval Accuracy Percentage For Test    :    {eval_acc * 100:.2f}\")"
   ]
  }
 ],
 "metadata": {
  "kernelspec": {
   "display_name": "base",
   "language": "python",
   "name": "python3"
  },
  "language_info": {
   "codemirror_mode": {
    "name": "ipython",
    "version": 3
   },
   "file_extension": ".py",
   "mimetype": "text/x-python",
   "name": "python",
   "nbconvert_exporter": "python",
   "pygments_lexer": "ipython3",
   "version": "3.11.7"
  }
 },
 "nbformat": 4,
 "nbformat_minor": 2
}
